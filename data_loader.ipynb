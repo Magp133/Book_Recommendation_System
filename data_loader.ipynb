{
 "cells": [
  {
   "cell_type": "code",
   "execution_count": 1,
   "metadata": {},
   "outputs": [],
   "source": [
    "import dask.dataframe as dd\n",
    "import dask.bag as db\n",
    "import numpy as np\n",
    "import time\n",
    "import matplotlib.pyplot as plt\n",
    "from dask.distributed import Client"
   ]
  },
  {
   "cell_type": "code",
   "execution_count": 2,
   "metadata": {},
   "outputs": [],
   "source": [
    "#function to compute the cosine similarity between two numpy arrays\n",
    "def cosine_similarity(a, b):\n",
    "    \"\"\"\n",
    "    Compute the cosine similarity between two numpy arrays.\n",
    "    \"\"\"\n",
    "    u_squared = a ** 2\n",
    "    v_squared = b ** 2\n",
    "    u_magnitude = u_squared.sum()\n",
    "    v_magnitude = v_squared.sum()\n",
    "\n",
    "    numerator = np.dot(a,b)\n",
    "    denominator = np.sqrt(u_magnitude) * np.sqrt(v_magnitude)\n",
    "\n",
    "    return numerator / denominator"
   ]
  },
  {
   "cell_type": "code",
   "execution_count": 3,
   "metadata": {},
   "outputs": [],
   "source": [
    "#function to find the closest users to a given user\n",
    "def closest_users(user_bag, test_user):\n",
    "    \"\"\"\n",
    "    Finds the closest users to a given user.\n",
    "    Uses cosine similarity to calculate the distance between users.\n",
    "    \"\"\"\n",
    "    #given a test user, find the closest users\n",
    "    user_bag = user_bag.map(lambda x: (x[0][0], cosine_similarity(x[1], test_user[0][1])))\n",
    "    return user_bag"
   ]
  },
  {
   "cell_type": "code",
   "execution_count": 4,
   "metadata": {},
   "outputs": [],
   "source": [
    "#given close users recommend books to the test user\n",
    "def book_recommendations(review_bag, test_user, n_recommendations=5):\n",
    "    \"\"\"\n",
    "    Given a review bag and a test user, recommend n_recommendations books to the test user.\n",
    "    These book recommendations are the ids of the books which can be used by get_book_titles for the actual book titles.\n",
    "    \"\"\"\n",
    "    close_users = closest_users(review_bag, test_user).topk(6, key=lambda x: x[1])\n",
    "    #the first entry of the closest user is the test user. \n",
    "\n",
    "    #get the user ids of the closest users\n",
    "    close_user_ids = [user_id for user_id, _ in close_users.compute()]\n",
    "    close_user_ids = close_user_ids[1:]\n",
    "\n",
    "    #get the user bag of the closest users\n",
    "    close_user_ratings = review_bag.filter(lambda x: x[0][0] in close_user_ids).map(lambda x: x[0])\n",
    "\n",
    "    #get the user ratings of the closest users\n",
    "    close_user_ratings = close_user_ratings.map(lambda x: x[1])\n",
    "\n",
    "    #get the book ids of those rated highly. \n",
    "    close_user_ratings = close_user_ratings.flatten()\n",
    "\n",
    "    #make entries unique\n",
    "    close_user_ratings = close_user_ratings.distinct()\n",
    "\n",
    "    #get the n_recommendations where the test user has not rated the book\n",
    "    close_user_ratings = close_user_ratings.filter(lambda x: x[0] not in test_user[0][1])\n",
    "\n",
    "    #get the top n_recommendations\n",
    "    close_user_ratings = close_user_ratings.topk(n_recommendations, key=lambda x: x[1])\n",
    "\n",
    "    return close_user_ratings"
   ]
  },
  {
   "cell_type": "code",
   "execution_count": 5,
   "metadata": {},
   "outputs": [],
   "source": [
    "def get_book_titles(book_recommendations, book_dataframe):\n",
    "    \"\"\"\n",
    "    Given a list of book recommendations and a bookdataframe, return the book titles of the recommendations.\n",
    "    \"\"\"\n",
    "    #sort the book dataframe by the book id\n",
    "    book_dataframe = book_dataframe.sort_values(by='book_id')\n",
    "    #get the book ids\n",
    "    book_ids = [book_id for book_id, _ in book_recommendations]\n",
    "    #filter the book dataframe\n",
    "    book_dataframe = book_dataframe[book_dataframe['book_id'].isin(book_ids)]\n",
    "\n",
    "    return book_dataframe\n",
    "\n",
    "# get_book_titles(book_recommendations(review_bag, test_user), book_dataframe).compute()"
   ]
  },
  {
   "cell_type": "markdown",
   "metadata": {},
   "source": [
    "# The following gets the recommendations."
   ]
  },
  {
   "cell_type": "code",
   "execution_count": 6,
   "metadata": {},
   "outputs": [],
   "source": [
    "#loading the data and creating a test set took 90+min.\n",
    "#adopted this strategy to save time and resources.\n",
    "\n",
    "# Load the entire datasets\n",
    "book_data = dd.read_json('Datasets/goodreads_books.json', orient='records')  # 1MB chunks\n",
    "review_data = dd.read_json('Datasets/goodreads_reviews_spoiler.json', orient='records')  # 1MB chunks\n",
    "\n",
    "# Select only the columns you need\n",
    "book_data = book_data[['title', 'book_id']]\n",
    "review_data = review_data[['user_id', 'book_id', 'rating']]\n",
    "\n",
    "#clean the data\n",
    "book_data['title'] = book_data['title'].str.replace('\"', '')\n",
    "#remove the \\n from review data\n",
    "review_data['user_id'] = review_data['user_id'].str.replace('\"', '')\n"
   ]
  },
  {
   "cell_type": "code",
   "execution_count": 7,
   "metadata": {},
   "outputs": [],
   "source": [
    "#take the first 20% of the data\n",
    "#sort the book data by book_id ascending\n",
    "book_data = book_data.sort_values(by='book_id')\n",
    "book_data = book_data.head(int(len(book_data)*0.2))\n",
    "\n",
    "review_data = review_data.sort_values(by='book_id')\n",
    "review_data = review_data.head(int(len(review_data)*0.2))\n",
    "\n",
    "#save book data to csv if partioned. \n",
    "book_data.to_csv('Datasets/book_data.csv', sep=',', index=False)\n",
    "\n",
    "#save review data to csv\n",
    "review_data.to_csv('Datasets/review_data.csv', sep=',', index=False)\n"
   ]
  },
  {
   "cell_type": "code",
   "execution_count": 8,
   "metadata": {},
   "outputs": [],
   "source": [
    "#create a numpy array of the book data ids. \n",
    "#this will be used for cosine similarity. \n",
    "#the id will be the index in the array. \n",
    "#get the last row of the book data to get the last id.\n",
    "\n",
    "\n",
    "\n",
    "#load the review data into a dask dataframe if the data was partitioned first.\n",
    "review_dataframe = dd.read_csv('Datasets/review_data.csv')\n",
    "# #load the book data into a dask dataframe\n",
    "book_dataframe = dd.read_csv('Datasets/book_data.csv')\n",
    "\n",
    "#this indicates the size of the numpy array.\n",
    "# numpy_size = book_dataframe.iloc[-1]['book_id'] # use the following if the data is partitioned first. \n",
    "# get the max id\n",
    "numpy_size = book_dataframe['book_id'].max().compute() # use the following if the data is not partitioned first.\n",
    "\n",
    "#convert to a dask bag\n",
    "# review_bag = review_data.to_bag()\n",
    "review_bag = review_dataframe.to_bag()\n"
   ]
  },
  {
   "cell_type": "code",
   "execution_count": 9,
   "metadata": {},
   "outputs": [],
   "source": [
    "#define a function that takes a list of ratings and creates a new numpy array with 0s and 1s indicating which was rated\n",
    "#add this to the tuple entry. \n",
    "def create_book_array(x):\n",
    "    \"\"\"\n",
    "    Create an array of 0s and 1s indicating which books have been rated by a user.\n",
    "    Used to calc the cosine similarity later. \n",
    "    \"\"\"\n",
    "    book_array = np.zeros(numpy_size+1)\n",
    "    for i in x[1]:\n",
    "        if i[0] < numpy_size:\n",
    "            book_array[i[0]] = 1\n",
    "    return (x, book_array)"
   ]
  },
  {
   "cell_type": "code",
   "execution_count": 10,
   "metadata": {},
   "outputs": [
    {
     "data": {
      "text/plain": [
       "[(2, 5), (3, 5), (5, 5), (6, 5), (5297, 5)]"
      ]
     },
     "execution_count": 10,
     "metadata": {},
     "output_type": "execute_result"
    }
   ],
   "source": [
    "# client = Client(n_workers=1)\n",
    "\n",
    "#fold the review data to contain all the ratings and id for each book\n",
    "#this will be used to calculate the cosine similarity\n",
    "review_bag = review_bag.foldby(lambda x: x[0], binop=lambda acc, x: acc + [(x[1], x[2])], initial=[])\n",
    "\n",
    "#apply the function to the review bag\n",
    "review_bag = review_bag.map(create_book_array)\n",
    "\n",
    "\n",
    "\n",
    "\n",
    "test_user = review_bag.take(1)\n",
    "\n",
    "book_recommendations(review_bag, test_user).compute()\n"
   ]
  },
  {
   "cell_type": "markdown",
   "metadata": {},
   "source": [
    "# Tests\n"
   ]
  },
  {
   "cell_type": "markdown",
   "metadata": {},
   "source": [
    "20% - 2min 6s\n",
    "40% - 11min 11s\n",
    "60% - 17min 42s\n",
    "80% - 23min 45s\n",
    "100% - 36min 28s"
   ]
  },
  {
   "cell_type": "code",
   "execution_count": 54,
   "metadata": {},
   "outputs": [
    {
     "data": {
      "image/png": "[encoded data removed]",
      "text/plain": [
       "<Figure size 640x480 with 1 Axes>"
      ]
     },
     "metadata": {},
     "output_type": "display_data"
    }
   ],
   "source": [
    "# create graphs for the time taken to compute the recommendations\n",
    "\n",
    "data_percentage = [20, 40, 60, 80, 100]\n",
    "time_seconds = [126, 671, 1062, 1425, 2188]\n",
    "\n",
    "plt.plot(data_percentage, time_seconds)\n",
    "plt.xlabel('Percentage of data used')\n",
    "plt.ylabel('Time taken in seconds')\n",
    "plt.title('Time taken to compute recommendations')\n",
    "plt.show()"
   ]
  }
 ],
 "metadata": {
  "kernelspec": {
   "display_name": "base",
   "language": "python",
   "name": "python3"
  },
  "language_info": {
   "codemirror_mode": {
    "name": "ipython",
    "version": 3
   },
   "file_extension": ".py",
   "mimetype": "text/x-python",
   "name": "python",
   "nbconvert_exporter": "python",
   "pygments_lexer": "ipython3",
   "version": "3.11.5"
  }
 },
 "nbformat": 4,
 "nbformat_minor": 2
}
